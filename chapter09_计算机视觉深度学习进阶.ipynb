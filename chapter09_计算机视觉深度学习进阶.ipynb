{
 "cells": [
  {
   "cell_type": "markdown",
   "id": "812c39b5-2b9a-4cca-a8a7-6067ec2b26e7",
   "metadata": {},
   "source": [
    "# 本章摘要"
   ]
  },
  {
   "cell_type": "markdown",
   "id": "8e0e5156-7ec7-4c7e-8045-050cc2b8d9c0",
   "metadata": {},
   "source": [
    "**计算机视觉的不同分支**，包括：\n",
    "- 图像分类\n",
    "- 图像分割\n",
    "- 目标检测 <p>\n",
    "\n",
    "**现代卷积神经网络的架构模式**，包括：\n",
    "- 残差连接\n",
    "- 批量规范化\n",
    "- 深度可分离卷积对卷积神经网络所学内容进行可视化和解释的方法 <p>"
   ]
  },
  {
   "cell_type": "markdown",
   "id": "6643ec49-f846-4aca-b15a-4bf467b53321",
   "metadata": {},
   "source": [
    "# 三项基本的计算机视觉任务"
   ]
  },
  {
   "cell_type": "code",
   "execution_count": null,
   "id": "1044922c-f890-4c39-98b4-490aae0233c1",
   "metadata": {},
   "outputs": [],
   "source": []
  }
 ],
 "metadata": {
  "kernelspec": {
   "display_name": "hjw",
   "language": "python",
   "name": "hjw"
  },
  "language_info": {
   "codemirror_mode": {
    "name": "ipython",
    "version": 3
   },
   "file_extension": ".py",
   "mimetype": "text/x-python",
   "name": "python",
   "nbconvert_exporter": "python",
   "pygments_lexer": "ipython3",
   "version": "3.10.13"
  }
 },
 "nbformat": 4,
 "nbformat_minor": 5
}
