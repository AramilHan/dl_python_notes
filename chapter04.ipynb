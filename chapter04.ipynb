{
 "cells": [
  {
   "cell_type": "markdown",
   "id": "16721751-444a-4a38-873f-ccc8a1d6f8cc",
   "metadata": {
    "jp-MarkdownHeadingCollapsed": true
   },
   "source": [
    "# 影评分类：二分类问题示例"
   ]
  },
  {
   "cell_type": "markdown",
   "id": "452b5ff3-1b78-497c-ac08-0ab7ca1867ed",
   "metadata": {},
   "source": [
    "二分类问题是最常见的一类机器学习问题。本例中，根据影评文本将其划分为正面或负面"
   ]
  },
  {
   "cell_type": "markdown",
   "id": "56163bac-1589-4bea-815d-a02f5458ecf7",
   "metadata": {},
   "source": [
    "## IMDB数据集"
   ]
  },
  {
   "cell_type": "code",
   "execution_count": 1,
   "id": "688ab7d1-073d-4bbe-8140-67acd9c0c961",
   "metadata": {},
   "outputs": [
    {
     "name": "stderr",
     "output_type": "stream",
     "text": [
      "2024-08-18 17:44:36.974441: I tensorflow/core/platform/cpu_feature_guard.cc:182] This TensorFlow binary is optimized to use available CPU instructions in performance-critical operations.\n",
      "To enable the following instructions: SSE4.1 SSE4.2, in other operations, rebuild TensorFlow with the appropriate compiler flags.\n"
     ]
    },
    {
     "name": "stdout",
     "output_type": "stream",
     "text": [
      "Intel MKL WARNING: Support of Intel(R) Streaming SIMD Extensions 4.2 (Intel(R) SSE4.2) enabled only processors has been deprecated. Intel oneAPI Math Kernel Library 2025.0 will require Intel(R) Advanced Vector Extensions (Intel(R) AVX) instructions.\n",
      "Intel MKL WARNING: Support of Intel(R) Streaming SIMD Extensions 4.2 (Intel(R) SSE4.2) enabled only processors has been deprecated. Intel oneAPI Math Kernel Library 2025.0 will require Intel(R) Advanced Vector Extensions (Intel(R) AVX) instructions.\n"
     ]
    }
   ],
   "source": [
    "from tensorflow.keras.datasets import imdb"
   ]
  },
  {
   "cell_type": "markdown",
   "id": "1f039827-82c4-4d55-aa63-3e936a324dfa",
   "metadata": {},
   "source": [
    "num_words=10000为仅保留训练数据中前10000个最长出现的单词。"
   ]
  },
  {
   "cell_type": "code",
   "execution_count": 2,
   "id": "4732d56c-34a2-4e52-ab6e-aa71f8b77c07",
   "metadata": {},
   "outputs": [],
   "source": [
    "(train_data, train_labels), (test_data, test_labels) = imdb.load_data(num_words=10000)"
   ]
  },
  {
   "cell_type": "markdown",
   "id": "1700eb9c-8ba8-4c6d-9aeb-41672c91ffe4",
   "metadata": {},
   "source": [
    "train_labels和test_labels都是由0和1组成的列表，其中0代表负面，1代表正面"
   ]
  },
  {
   "cell_type": "code",
   "execution_count": 3,
   "id": "9d002265-7587-4da9-afba-b10ea7208adc",
   "metadata": {},
   "outputs": [
    {
     "data": {
      "text/plain": [
       "\"? this film was just brilliant casting location scenery story direction everyone's really suited the part they played and you could just imagine being there robert ? is an amazing actor and now the same being director ? father came from the same scottish island as myself so i loved the fact there was a real connection with this film the witty remarks throughout the film were great it was just brilliant so much that i bought the film as soon as it was released for ? and would recommend it to everyone to watch and the fly fishing was amazing really cried at the end it was so sad and you know what they say if you cry at a film it must have been good and this definitely was also ? to the two little boy's that played the ? of norman and paul they were just brilliant children are often left out of the ? list i think because the stars that play them all grown up are such a big profile for the whole film but these children are amazing and should be praised for what they have done don't you think the whole story was so lovely because it was true and was someone's life after all that was shared with us all\""
      ]
     },
     "execution_count": 3,
     "metadata": {},
     "output_type": "execute_result"
    }
   ],
   "source": [
    "# 将评论解码为文本\n",
    "word_index = imdb.get_word_index()\n",
    "reverse_word_index = dict([(value, key) for (key, value) in word_index.items()])\n",
    "decoded_review = \" \".join([reverse_word_index.get(i - 3, \"?\") for i in train_data[0]])\n",
    "decoded_review"
   ]
  },
  {
   "cell_type": "markdown",
   "id": "c817c65c-dee0-4310-b835-158aa6209f97",
   "metadata": {},
   "source": [
    "## 准备数据"
   ]
  },
  {
   "cell_type": "markdown",
   "id": "e4651e53-3cbe-481d-b831-fa0379458121",
   "metadata": {},
   "source": [
    "不能直接将整数列表传入神经网络。整数列表的长度各不相同，但神经处理的是大小相同的数据批量。需要将列表转换成**张量**，转换方法有以下两种：\n",
    "- 填充列表，使其长度相等，再将列表转换成形状为`(samples, max_length)`的整数张量，然后在模型第一层使用能处理这种张量的层`(embedding层)`。\n",
    "- 对列表进行**multi-hot编码**，将其转换成由0和1组成的向量。eg：将序列[8,5]转换成一个10000维向量，只有索引8和5对应的元素是1，其余元素都是0。然后，模型第一层可以用Dense层，它能够处理浮点数向量数据。"
   ]
  },
  {
   "cell_type": "code",
   "execution_count": 4,
   "id": "782a78e6-3fa5-4f63-be2d-65bce21f6a29",
   "metadata": {},
   "outputs": [],
   "source": [
    "# 用multi-hot编码对整数序列进行编码\n",
    "import numpy as np\n",
    "\n",
    "def vectorize_sequences(sequences, dimension=10000):\n",
    "    results = np.zeros((len(sequences), dimension))\n",
    "    for i, sequence in enumerate(sequences):\n",
    "        for j in sequence:\n",
    "            results[i, j] = 1.\n",
    "    return results\n",
    "\n",
    "# 将训练数据向量化\n",
    "x_train = vectorize_sequences(train_data)\n",
    "# 将测试数据向量化\n",
    "x_test = vectorize_sequences(test_data)"
   ]
  },
  {
   "cell_type": "code",
   "execution_count": 5,
   "id": "973f6b66-9c33-4e58-90d7-7b8042574349",
   "metadata": {},
   "outputs": [
    {
     "data": {
      "text/plain": [
       "array([0., 1., 1., ..., 0., 0., 0.])"
      ]
     },
     "execution_count": 5,
     "metadata": {},
     "output_type": "execute_result"
    }
   ],
   "source": [
    "x_train[0]"
   ]
  },
  {
   "cell_type": "code",
   "execution_count": 6,
   "id": "b7a31169-4322-4b66-b8e8-f5915ec1c356",
   "metadata": {},
   "outputs": [],
   "source": [
    "# 将训练标签向量化\n",
    "y_train = np.asarray(train_labels).astype('float32')\n",
    "y_test = np.asarray(test_labels).astype('float32')"
   ]
  },
  {
   "cell_type": "markdown",
   "id": "bce96bc1-0539-4afd-85f9-22a7213137bf",
   "metadata": {},
   "source": [
    "## 构建模型"
   ]
  },
  {
   "cell_type": "markdown",
   "id": "97f557b1-79f3-4cd1-8f9b-85799c879eb1",
   "metadata": {},
   "source": [
    "输入数据是向量，而标签是标量(1和0)，这是最简单的一类问题。有一类模型在这种问题上的表现很好，就是带有relu激活函数的密集连接层（Dense）的简单堆叠。\n",
    "对于Dense层的这种堆叠，需要做出以下两个关键的架构决策：\n",
    "- 神经网络有多少层\n",
    "- 每层有多少个单元\n",
    "\n",
    "以下Dense层使用下列架构：\n",
    "- 两个中间层，每层16个单元\n",
    "- 第三层输出一个标量预测值，代表当前评论的情感类别"
   ]
  },
  {
   "cell_type": "markdown",
   "id": "2f4facbf-a1f0-4657-acdf-8ce7ea3c0ad7",
   "metadata": {},
   "source": [
    "模型的架构示意图如下：\n",
    "\n",
    "![模型架构示意图](images/影评二分类模型架构示意图.png \"影评二分类模型架构示意图\")"
   ]
  },
  {
   "cell_type": "code",
   "execution_count": 7,
   "id": "b4b61fda-b5ab-4781-b4c5-9b995a740579",
   "metadata": {},
   "outputs": [],
   "source": [
    "from tensorflow import keras\n",
    "from tensorflow.keras import layers\n",
    "\n",
    "model = keras.Sequential([\n",
    "    layers.Dense(16, activation='relu'),\n",
    "    layers.Dense(16, activation='relu'),\n",
    "    layers.Dense(1, activation='sigmoid')\n",
    "])"
   ]
  },
  {
   "cell_type": "markdown",
   "id": "27ad623b-30bc-4f41-8d29-8c129146e306",
   "metadata": {},
   "source": [
    "每个带有**relu激活函数**的Dense层都实现了下列张量运算 <br>\n",
    "`output = relu(dot(input, W) + b)` <p>\n",
    "16个单元对应的权重矩阵W的形状为`(input_dimension, 16)`，与W做点积相当于把输入数据投影到16维表示空间中。可以将表示空间的维度直观理解为“模型学习内部表示时所拥有的自由度”。单元越多（表示空间的维度越高），模型就能学到更加复杂的表示，但模型计算代价也变得更大，并可能导致学到不必要的模式。<p>\n",
    "中间层使用**relu**作为激活函数，最后一层使用**sigmoid**激活函数，以便输出一个介于0和1之间的概率值。\n",
    "- relu函数将所有负值归零；\n",
    "- sigmoid函数则将任意值“压缩”到[0,1]区间内，其输出可以看做概率值。<p>\n",
    "![relu激活函数](images/relu激活函数.png \"relu激活函数\")<p>\n",
    "![sigmoid激活函数](images/sigmoid激活函数.png \"sigmoid激活函数\")"
   ]
  },
  {
   "cell_type": "markdown",
   "id": "d4e40a20-9fee-4546-b88e-4014cc5d1528",
   "metadata": {},
   "source": [
    "### 什么是激活函数？为什么要使用激活函数？"
   ]
  },
  {
   "cell_type": "markdown",
   "id": "143d7a1e-feba-4767-a12f-fb43ca25973b",
   "metadata": {},
   "source": [
    "如果没有像relu这样的激活函数（也叫**非线性激活函数**），Dense层就只包含两个线性运算，即点积与加法：<br>\n",
    "`output = dot(input, W) + b` <p>\n",
    "这样的层只能学习输入数据的**线性变换***（仿射变换）：该层的**假设空间**是从输入数据到16维空间所有可能得线性变换集合。这种假设空间非常受限，无法利用多个表示层的优势，因为多个线性层堆叠实现的仍是线性运算，增加层数并不会扩展假设空间。<p>\n",
    "为了得到更丰富的假设空间，从而充分利用多层表示的优势，**需要引入非线性**，也就是激活函数。"
   ]
  },
  {
   "cell_type": "markdown",
   "id": "091c51bf-c128-4280-94af-680c4a5dec1c",
   "metadata": {},
   "source": [
    "### 选择损失函数和优化器"
   ]
  },
  {
   "cell_type": "markdown",
   "id": "bf23c559-8dbe-4245-b737-a7ed564c4002",
   "metadata": {},
   "source": [
    "对于二分类问题的损失函数选择，模型输出是一个概率值（模型最后一层只有一个单元并使用sigmoid激活函数），所以最好使用`binary_crossentropy`（二元交叉熵）损失函数。对于输出概率值的模型，交叉熵通常是最佳选择。<p>\n",
    "优化器，将使用`rmsprop`。对与几乎所有问题，它通常都是很好的默认选择"
   ]
  },
  {
   "cell_type": "code",
   "execution_count": 8,
   "id": "7708879d-1fb9-41e7-9dbc-3cacc4588ab4",
   "metadata": {},
   "outputs": [],
   "source": [
    "# 编译模型\n",
    "model.compile(\n",
    "    optimizer=\"rmsprop\",\n",
    "    loss=\"binary_crossentropy\",\n",
    "    metrics=[\"accuracy\"])"
   ]
  },
  {
   "cell_type": "markdown",
   "id": "605f7be1-3786-459f-adc3-109d38bd6218",
   "metadata": {},
   "source": [
    "## 验证你的方法"
   ]
  },
  {
   "cell_type": "code",
   "execution_count": 9,
   "id": "db315a9c-a909-4711-b52a-69bc612f8418",
   "metadata": {},
   "outputs": [],
   "source": [
    "# 留出验证集\n",
    "x_val = x_train[:10000]\n",
    "partial_x_train = x_train[10000:]\n",
    "y_val = y_train[:10000]\n",
    "partial_y_train = y_train[10000:]"
   ]
  },
  {
   "cell_type": "markdown",
   "id": "dc1ff8d4-6100-4fe1-b16e-19e3c0223acc",
   "metadata": {},
   "source": [
    "### 训练模型"
   ]
  },
  {
   "cell_type": "code",
   "execution_count": 10,
   "id": "8f298a5b-f816-4806-bfb5-65fa7f9b4ec8",
   "metadata": {},
   "outputs": [
    {
     "name": "stdout",
     "output_type": "stream",
     "text": [
      "Epoch 1/20\n",
      "30/30 [==============================] - 2s 36ms/step - loss: 0.5094 - accuracy: 0.7724 - val_loss: 0.4354 - val_accuracy: 0.8169\n",
      "Epoch 2/20\n",
      "30/30 [==============================] - 0s 9ms/step - loss: 0.3122 - accuracy: 0.8951 - val_loss: 0.3079 - val_accuracy: 0.8847\n",
      "Epoch 3/20\n",
      "30/30 [==============================] - 0s 8ms/step - loss: 0.2330 - accuracy: 0.9227 - val_loss: 0.2955 - val_accuracy: 0.8818\n",
      "Epoch 4/20\n",
      "30/30 [==============================] - 0s 8ms/step - loss: 0.1875 - accuracy: 0.9363 - val_loss: 0.2794 - val_accuracy: 0.8875\n",
      "Epoch 5/20\n",
      "30/30 [==============================] - 0s 8ms/step - loss: 0.1596 - accuracy: 0.9485 - val_loss: 0.2982 - val_accuracy: 0.8837\n",
      "Epoch 6/20\n",
      "30/30 [==============================] - 0s 8ms/step - loss: 0.1365 - accuracy: 0.9568 - val_loss: 0.3092 - val_accuracy: 0.8762\n",
      "Epoch 7/20\n",
      "30/30 [==============================] - 0s 8ms/step - loss: 0.1189 - accuracy: 0.9623 - val_loss: 0.3078 - val_accuracy: 0.8845\n",
      "Epoch 8/20\n",
      "30/30 [==============================] - 0s 8ms/step - loss: 0.1010 - accuracy: 0.9702 - val_loss: 0.3068 - val_accuracy: 0.8872\n",
      "Epoch 9/20\n",
      "30/30 [==============================] - 0s 8ms/step - loss: 0.0880 - accuracy: 0.9749 - val_loss: 0.3756 - val_accuracy: 0.8721\n",
      "Epoch 10/20\n",
      "30/30 [==============================] - 0s 8ms/step - loss: 0.0795 - accuracy: 0.9770 - val_loss: 0.3409 - val_accuracy: 0.8786\n",
      "Epoch 11/20\n",
      "30/30 [==============================] - 0s 8ms/step - loss: 0.0630 - accuracy: 0.9852 - val_loss: 0.3552 - val_accuracy: 0.8802\n",
      "Epoch 12/20\n",
      "30/30 [==============================] - 0s 10ms/step - loss: 0.0581 - accuracy: 0.9865 - val_loss: 0.3849 - val_accuracy: 0.8765\n",
      "Epoch 13/20\n",
      "30/30 [==============================] - 0s 9ms/step - loss: 0.0492 - accuracy: 0.9883 - val_loss: 0.4231 - val_accuracy: 0.8653\n",
      "Epoch 14/20\n",
      "30/30 [==============================] - 0s 8ms/step - loss: 0.0413 - accuracy: 0.9923 - val_loss: 0.4170 - val_accuracy: 0.8758\n",
      "Epoch 15/20\n",
      "30/30 [==============================] - 0s 8ms/step - loss: 0.0353 - accuracy: 0.9937 - val_loss: 0.4375 - val_accuracy: 0.8752\n",
      "Epoch 16/20\n",
      "30/30 [==============================] - 0s 8ms/step - loss: 0.0307 - accuracy: 0.9949 - val_loss: 0.4598 - val_accuracy: 0.8740\n",
      "Epoch 17/20\n",
      "30/30 [==============================] - 0s 8ms/step - loss: 0.0275 - accuracy: 0.9945 - val_loss: 0.4883 - val_accuracy: 0.8671\n",
      "Epoch 18/20\n",
      "30/30 [==============================] - 0s 8ms/step - loss: 0.0246 - accuracy: 0.9961 - val_loss: 0.5126 - val_accuracy: 0.8723\n",
      "Epoch 19/20\n",
      "30/30 [==============================] - 0s 8ms/step - loss: 0.0155 - accuracy: 0.9990 - val_loss: 0.5510 - val_accuracy: 0.8695\n",
      "Epoch 20/20\n",
      "30/30 [==============================] - 0s 8ms/step - loss: 0.0214 - accuracy: 0.9963 - val_loss: 0.5478 - val_accuracy: 0.8703\n"
     ]
    }
   ],
   "source": [
    "# 训练模型\n",
    "history = model.fit(partial_x_train,\n",
    "                    partial_y_train,\n",
    "                    epochs=20,\n",
    "                    batch_size=512,\n",
    "                    validation_data = (x_val, y_val))"
   ]
  },
  {
   "cell_type": "markdown",
   "id": "927db0b7-810d-48d6-94b3-959967ad473f",
   "metadata": {},
   "source": [
    "调用`model.fit()`返回了一个**History对象**，这个对象有一个名为history的成员，它是一个字典，包含训练过程的全部数据。"
   ]
  },
  {
   "cell_type": "code",
   "execution_count": 11,
   "id": "de1164a5-29a9-4a5c-9112-1492d4187b0a",
   "metadata": {},
   "outputs": [
    {
     "data": {
      "text/plain": [
       "dict_keys(['loss', 'accuracy', 'val_loss', 'val_accuracy'])"
      ]
     },
     "execution_count": 11,
     "metadata": {},
     "output_type": "execute_result"
    }
   ],
   "source": [
    "history_dict = history.history\n",
    "history_dict.keys()"
   ]
  },
  {
   "cell_type": "markdown",
   "id": "9165097c-4885-4688-80bf-91864f262951",
   "metadata": {},
   "source": [
    "### 使用Matplotlib绘制数据变化图"
   ]
  },
  {
   "cell_type": "markdown",
   "id": "641ebaa3-8ec0-4345-a476-88183e1bf386",
   "metadata": {},
   "source": [
    "#### 绘制训练损失和验证损失"
   ]
  },
  {
   "cell_type": "code",
   "execution_count": 12,
   "id": "ceb5e124-ecaa-4bde-9d6b-4f8413d32ad8",
   "metadata": {},
   "outputs": [
    {
     "data": {
      "image/png": "[encoded data removed]",
      "text/plain": [
       "<Figure size 640x480 with 1 Axes>"
      ]
     },
     "metadata": {},
     "output_type": "display_data"
    }
   ],
   "source": [
    "import matplotlib.pyplot as plt\n",
    "history_dict = history.history\n",
    "loss_values = history_dict[\"loss\"]\n",
    "val_loss_values = history_dict[\"val_loss\"]\n",
    "epochs = range(1, len(loss_values) + 1)\n",
    "# bo表示\"蓝色圆点\"\n",
    "plt.plot(epochs, loss_values, \"bo\", label=\"Training loss\")\n",
    "# b表示\"蓝色实线\"\n",
    "plt.plot(epochs, val_loss_values, \"b\", label=\"Validation loss\")\n",
    "plt.title(\"Training and Validation loss\")\n",
    "plt.xlabel(\"Epochs\")\n",
    "plt.ylabel(\"Loss\")\n",
    "plt.legend()\n",
    "plt.show()"
   ]
  },
  {
   "cell_type": "markdown",
   "id": "42487611-68c8-4146-ad71-d5db08940c2b",
   "metadata": {},
   "source": [
    "#### 绘制训练精度和验证精度"
   ]
  },
  {
   "cell_type": "code",
   "execution_count": 13,
   "id": "e9285c9e-712e-4bd4-8cfe-42da94ee6f3b",
   "metadata": {},
   "outputs": [
    {
     "data": {
      "image/png": "[encoded data removed]",
      "text/plain": [
       "<Figure size 640x480 with 1 Axes>"
      ]
     },
     "metadata": {},
     "output_type": "display_data"
    }
   ],
   "source": [
    "plt.clf()\n",
    "acc = history_dict[\"accuracy\"]\n",
    "val_acc = history_dict[\"val_accuracy\"]\n",
    "plt.plot(epochs, acc, \"bo\", label=\"Training acc\")\n",
    "plt.plot(epochs, val_acc, \"b\", label=\"Validation acc\")\n",
    "plt.title(\"Training and Validation accuracy\")\n",
    "plt.xlabel(\"Epochs\")\n",
    "plt.ylabel(\"Accuracy\")\n",
    "plt.legend()\n",
    "plt.show()"
   ]
  },
  {
   "cell_type": "markdown",
   "id": "8d30575e-5cee-4333-aac9-81828a2c1bbb",
   "metadata": {},
   "source": [
    "## 利用训练好的模型对新数据进行预测"
   ]
  },
  {
   "cell_type": "code",
   "execution_count": 14,
   "id": "4a021d76-db27-44d1-8a79-12616fc330fb",
   "metadata": {},
   "outputs": [
    {
     "name": "stdout",
     "output_type": "stream",
     "text": [
      "782/782 [==============================] - 1s 830us/step\n"
     ]
    },
    {
     "data": {
      "text/plain": [
       "array([[0.02922997],\n",
       "       [0.9999999 ],\n",
       "       [0.7995538 ],\n",
       "       ...,\n",
       "       [0.00368623],\n",
       "       [0.01071579],\n",
       "       [0.9372384 ]], dtype=float32)"
      ]
     },
     "execution_count": 14,
     "metadata": {},
     "output_type": "execute_result"
    }
   ],
   "source": [
    "model.predict(x_test)"
   ]
  },
  {
   "cell_type": "code",
   "execution_count": 15,
   "id": "3d872ccb-7306-41bb-95f6-54ebecfefd84",
   "metadata": {},
   "outputs": [
    {
     "name": "stdout",
     "output_type": "stream",
     "text": [
      "782/782 [==============================] - 1s 815us/step - loss: 0.5919 - accuracy: 0.8583\n"
     ]
    }
   ],
   "source": [
    "results = model.evaluate(x_test, y_test)"
   ]
  },
  {
   "cell_type": "code",
   "execution_count": 16,
   "id": "252a3358-5034-486e-abaa-f73e49f0ca73",
   "metadata": {},
   "outputs": [
    {
     "data": {
      "text/plain": [
       "[0.5919103026390076, 0.8583199977874756]"
      ]
     },
     "execution_count": 16,
     "metadata": {},
     "output_type": "execute_result"
    }
   ],
   "source": [
    "results"
   ]
  },
  {
   "cell_type": "markdown",
   "id": "c7a10e43-0a70-4ee8-a306-43e8e3ed58a4",
   "metadata": {},
   "source": [
    "# 新闻分类：多分类问题示例"
   ]
  },
  {
   "cell_type": "markdown",
   "id": "7c210f50-18d0-4d9c-832f-439e8f249877",
   "metadata": {},
   "source": [
    "上面介绍了如何用密集连接神经网络将向量输入划分为两个互斥的类别。但如果类别不止两个，要如何训练模型？</p>\n",
    "将构建一个模型，把路透社新闻划分到46个互斥的主题中。由于有多个类别，因此这是一个**多分类**问题。具体来说这是一个**单标签、多分类**问题。如果是每个数据点可以划分到多个类别（主题）中，那就是**多标签、多分类**问题。</p>"
   ]
  },
  {
   "cell_type": "code",
   "execution_count": null,
   "id": "866a4f5c-7174-44d4-bc42-2089b014ea7e",
   "metadata": {},
   "outputs": [],
   "source": []
  }
 ],
 "metadata": {
  "kernelspec": {
   "display_name": "hjw",
   "language": "python",
   "name": "hjw"
  },
  "language_info": {
   "codemirror_mode": {
    "name": "ipython",
    "version": 3
   },
   "file_extension": ".py",
   "mimetype": "text/x-python",
   "name": "python",
   "nbconvert_exporter": "python",
   "pygments_lexer": "ipython3",
   "version": "3.10.13"
  }
 },
 "nbformat": 4,
 "nbformat_minor": 5
}
