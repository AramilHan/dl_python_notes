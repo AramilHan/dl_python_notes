{
 "cells": [
  {
   "cell_type": "markdown",
   "id": "16721751-444a-4a38-873f-ccc8a1d6f8cc",
   "metadata": {
    "jp-MarkdownHeadingCollapsed": true
   },
   "source": [
    "# 影评分类：二分类问题示例"
   ]
  },
  {
   "cell_type": "markdown",
   "id": "452b5ff3-1b78-497c-ac08-0ab7ca1867ed",
   "metadata": {},
   "source": [
    "二分类问题是最常见的一类机器学习问题。本例中，根据影评文本将其划分为正面或负面"
   ]
  },
  {
   "cell_type": "markdown",
   "id": "56163bac-1589-4bea-815d-a02f5458ecf7",
   "metadata": {
    "jp-MarkdownHeadingCollapsed": true
   },
   "source": [
    "## IMDB数据集"
   ]
  },
  {
   "cell_type": "code",
   "execution_count": 1,
   "id": "688ab7d1-073d-4bbe-8140-67acd9c0c961",
   "metadata": {},
   "outputs": [
    {
     "name": "stderr",
     "output_type": "stream",
     "text": [
      "2024-08-18 17:44:36.974441: I tensorflow/core/platform/cpu_feature_guard.cc:182] This TensorFlow binary is optimized to use available CPU instructions in performance-critical operations.\n",
      "To enable the following instructions: SSE4.1 SSE4.2, in other operations, rebuild TensorFlow with the appropriate compiler flags.\n"
     ]
    },
    {
     "name": "stdout",
     "output_type": "stream",
     "text": [
      "Intel MKL WARNING: Support of Intel(R) Streaming SIMD Extensions 4.2 (Intel(R) SSE4.2) enabled only processors has been deprecated. Intel oneAPI Math Kernel Library 2025.0 will require Intel(R) Advanced Vector Extensions (Intel(R) AVX) instructions.\n",
      "Intel MKL WARNING: Support of Intel(R) Streaming SIMD Extensions 4.2 (Intel(R) SSE4.2) enabled only processors has been deprecated. Intel oneAPI Math Kernel Library 2025.0 will require Intel(R) Advanced Vector Extensions (Intel(R) AVX) instructions.\n"
     ]
    }
   ],
   "source": [
    "from tensorflow.keras.datasets import imdb"
   ]
  },
  {
   "cell_type": "markdown",
   "id": "1f039827-82c4-4d55-aa63-3e936a324dfa",
   "metadata": {},
   "source": [
    "num_words=10000为仅保留训练数据中前10000个最长出现的单词。"
   ]
  },
  {
   "cell_type": "code",
   "execution_count": 2,
   "id": "4732d56c-34a2-4e52-ab6e-aa71f8b77c07",
   "metadata": {},
   "outputs": [],
   "source": [
    "(train_data, train_labels), (test_data, test_labels) = imdb.load_data(num_words=10000)"
   ]
  },
  {
   "cell_type": "markdown",
   "id": "1700eb9c-8ba8-4c6d-9aeb-41672c91ffe4",
   "metadata": {},
   "source": [
    "train_labels和test_labels都是由0和1组成的列表，其中0代表负面，1代表正面"
   ]
  },
  {
   "cell_type": "code",
   "execution_count": 3,
   "id": "9d002265-7587-4da9-afba-b10ea7208adc",
   "metadata": {},
   "outputs": [
    {
     "data": {
      "text/plain": [
       "\"? this film was just brilliant casting location scenery story direction everyone's really suited the part they played and you could just imagine being there robert ? is an amazing actor and now the same being director ? father came from the same scottish island as myself so i loved the fact there was a real connection with this film the witty remarks throughout the film were great it was just brilliant so much that i bought the film as soon as it was released for ? and would recommend it to everyone to watch and the fly fishing was amazing really cried at the end it was so sad and you know what they say if you cry at a film it must have been good and this definitely was also ? to the two little boy's that played the ? of norman and paul they were just brilliant children are often left out of the ? list i think because the stars that play them all grown up are such a big profile for the whole film but these children are amazing and should be praised for what they have done don't you think the whole story was so lovely because it was true and was someone's life after all that was shared with us all\""
      ]
     },
     "execution_count": 3,
     "metadata": {},
     "output_type": "execute_result"
    }
   ],
   "source": [
    "# 将评论解码为文本\n",
    "word_index = imdb.get_word_index()\n",
    "reverse_word_index = dict([(value, key) for (key, value) in word_index.items()])\n",
    "decoded_review = \" \".join([reverse_word_index.get(i - 3, \"?\") for i in train_data[0]])\n",
    "decoded_review"
   ]
  },
  {
   "cell_type": "markdown",
   "id": "c817c65c-dee0-4310-b835-158aa6209f97",
   "metadata": {},
   "source": [
    "## 准备数据"
   ]
  },
  {
   "cell_type": "markdown",
   "id": "e4651e53-3cbe-481d-b831-fa0379458121",
   "metadata": {},
   "source": [
    "不能直接将整数列表传入神经网络。整数列表的长度各不相同，但神经处理的是大小相同的数据批量。需要将列表转换成**张量**，转换方法有以下两种：\n",
    "- 填充列表，使其长度相等，再将列表转换成形状为`(samples, max_length)`的整数张量，然后在模型第一层使用能处理这种张量的层`(embedding层)`。\n",
    "- 对列表进行**multi-hot编码**，将其转换成由0和1组成的向量。eg：将序列[8,5]转换成一个10000维向量，只有索引8和5对应的元素是1，其余元素都是0。然后，模型第一层可以用Dense层，它能够处理浮点数向量数据。"
   ]
  },
  {
   "cell_type": "code",
   "execution_count": 4,
   "id": "782a78e6-3fa5-4f63-be2d-65bce21f6a29",
   "metadata": {},
   "outputs": [],
   "source": [
    "# 用multi-hot编码对整数序列进行编码\n",
    "import numpy as np\n",
    "\n",
    "def vectorize_sequences(sequences, dimension=10000):\n",
    "    results = np.zeros((len(sequences), dimension))\n",
    "    for i, sequence in enumerate(sequences):\n",
    "        for j in sequence:\n",
    "            results[i, j] = 1.\n",
    "    return results\n",
    "\n",
    "# 将训练数据向量化\n",
    "x_train = vectorize_sequences(train_data)\n",
    "# 将测试数据向量化\n",
    "x_test = vectorize_sequences(test_data)"
   ]
  },
  {
   "cell_type": "code",
   "execution_count": 5,
   "id": "973f6b66-9c33-4e58-90d7-7b8042574349",
   "metadata": {},
   "outputs": [
    {
     "data": {
      "text/plain": [
       "array([0., 1., 1., ..., 0., 0., 0.])"
      ]
     },
     "execution_count": 5,
     "metadata": {},
     "output_type": "execute_result"
    }
   ],
   "source": [
    "x_train[0]"
   ]
  },
  {
   "cell_type": "code",
   "execution_count": 6,
   "id": "b7a31169-4322-4b66-b8e8-f5915ec1c356",
   "metadata": {},
   "outputs": [],
   "source": [
    "# 将训练标签向量化\n",
    "y_train = np.asarray(train_labels).astype('float32')\n",
    "y_test = np.asarray(test_labels).astype('float32')"
   ]
  },
  {
   "cell_type": "markdown",
   "id": "bce96bc1-0539-4afd-85f9-22a7213137bf",
   "metadata": {},
   "source": [
    "## 构建模型"
   ]
  },
  {
   "cell_type": "markdown",
   "id": "97f557b1-79f3-4cd1-8f9b-85799c879eb1",
   "metadata": {},
   "source": [
    "输入数据是向量，而标签是标量(1和0)，这是最简单的一类问题。有一类模型在这种问题上的表现很好，就是带有relu激活函数的密集连接层（Dense）的简单堆叠。\n",
    "对于Dense层的这种堆叠，需要做出以下两个关键的架构决策：\n",
    "- 神经网络有多少层\n",
    "- 每层有多少个单元\n",
    "\n",
    "以下Dense层使用下列架构：\n",
    "- 两个中间层，每层16个单元\n",
    "- 第三层输出一个标量预测值，代表当前评论的情感类别"
   ]
  },
  {
   "cell_type": "markdown",
   "id": "2f4facbf-a1f0-4657-acdf-8ce7ea3c0ad7",
   "metadata": {},
   "source": [
    "模型的架构示意图如下：\n",
    "\n",
    "![模型架构示意图](images/影评二分类模型架构示意图.png \"影评二分类模型架构示意图\")"
   ]
  },
  {
   "cell_type": "code",
   "execution_count": 7,
   "id": "b4b61fda-b5ab-4781-b4c5-9b995a740579",
   "metadata": {},
   "outputs": [],
   "source": [
    "from tensorflow import keras\n",
    "from tensorflow.keras import layers\n",
    "\n",
    "model = keras.Sequential([\n",
    "    layers.Dense(16, activation='relu'),\n",
    "    layers.Dense(16, activation='relu'),\n",
    "    layers.Dense(1, activation='sigmoid')\n",
    "])"
   ]
  },
  {
   "cell_type": "markdown",
   "id": "27ad623b-30bc-4f41-8d29-8c129146e306",
   "metadata": {},
   "source": [
    "每个带有**relu激活函数**的Dense层都实现了下列张量运算 <br>\n",
    "`output = relu(dot(input, W) + b)` <p>\n",
    "16个单元对应的权重矩阵W的形状为`(input_dimension, 16)`，与W做点积相当于把输入数据投影到16维表示空间中。可以将表示空间的维度直观理解为“模型学习内部表示时所拥有的自由度”。单元越多（表示空间的维度越高），模型就能学到更加复杂的表示，但模型计算代价也变得更大，并可能导致学到不必要的模式。<p>\n",
    "中间层使用**relu**作为激活函数，最后一层使用**sigmoid**激活函数，以便输出一个介于0和1之间的概率值。\n",
    "- relu函数将所有负值归零；\n",
    "- sigmoid函数则将任意值“压缩”到[0,1]区间内，其输出可以看做概率值。<p>\n",
    "![relu激活函数](images/relu激活函数.png \"relu激活函数\")<p>\n",
    "![sigmoid激活函数](images/sigmoid激活函数.png \"sigmoid激活函数\")"
   ]
  },
  {
   "cell_type": "markdown",
   "id": "d4e40a20-9fee-4546-b88e-4014cc5d1528",
   "metadata": {},
   "source": [
    "### 什么是激活函数？为什么要使用激活函数？"
   ]
  },
  {
   "cell_type": "markdown",
   "id": "143d7a1e-feba-4767-a12f-fb43ca25973b",
   "metadata": {},
   "source": [
    "如果没有像relu这样的激活函数（也叫**非线性激活函数**），Dense层就只包含两个线性运算，即点积与加法：<br>\n",
    "`output = dot(input, W) + b` <p>\n",
    "这样的层只能学习输入数据的**线性变换***（仿射变换）：该层的**假设空间**是从输入数据到16维空间所有可能得线性变换集合。这种假设空间非常受限，无法利用多个表示层的优势，因为多个线性层堆叠实现的仍是线性运算，增加层数并不会扩展假设空间。<p>\n",
    "为了得到更丰富的假设空间，从而充分利用多层表示的优势，**需要引入非线性**，也就是激活函数。"
   ]
  },
  {
   "cell_type": "markdown",
   "id": "091c51bf-c128-4280-94af-680c4a5dec1c",
   "metadata": {},
   "source": [
    "### 选择损失函数和优化器"
   ]
  },
  {
   "cell_type": "markdown",
   "id": "bf23c559-8dbe-4245-b737-a7ed564c4002",
   "metadata": {},
   "source": [
    "对于二分类问题的损失函数选择，模型输出是一个概率值（模型最后一层只有一个单元并使用sigmoid激活函数），所以最好使用`binary_crossentropy`（二元交叉熵）损失函数。对于输出概率值的模型，交叉熵通常是最佳选择。<p>\n",
    "优化器，将使用`rmsprop`。对与几乎所有问题，它通常都是很好的默认选择"
   ]
  },
  {
   "cell_type": "code",
   "execution_count": 8,
   "id": "7708879d-1fb9-41e7-9dbc-3cacc4588ab4",
   "metadata": {},
   "outputs": [],
   "source": [
    "# 编译模型\n",
    "model.compile(\n",
    "    optimizer=\"rmsprop\",\n",
    "    loss=\"binary_crossentropy\",\n",
    "    metrics=[\"accuracy\"])"
   ]
  },
  {
   "cell_type": "markdown",
   "id": "605f7be1-3786-459f-adc3-109d38bd6218",
   "metadata": {},
   "source": [
    "## 验证你的方法"
   ]
  },
  {
   "cell_type": "code",
   "execution_count": 9,
   "id": "db315a9c-a909-4711-b52a-69bc612f8418",
   "metadata": {},
   "outputs": [],
   "source": [
    "# 留出验证集\n",
    "x_val = x_train[:10000]\n",
    "partial_x_train = x_train[10000:]\n",
    "y_val = y_train[:10000]\n",
    "partial_y_train = y_train[10000:]"
   ]
  },
  {
   "cell_type": "markdown",
   "id": "dc1ff8d4-6100-4fe1-b16e-19e3c0223acc",
   "metadata": {},
   "source": [
    "### 训练模型"
   ]
  },
  {
   "cell_type": "code",
   "execution_count": 10,
   "id": "8f298a5b-f816-4806-bfb5-65fa7f9b4ec8",
   "metadata": {},
   "outputs": [
    {
     "name": "stdout",
     "output_type": "stream",
     "text": [
      "Epoch 1/20\n",
      "30/30 [==============================] - 2s 36ms/step - loss: 0.5094 - accuracy: 0.7724 - val_loss: 0.4354 - val_accuracy: 0.8169\n",
      "Epoch 2/20\n",
      "30/30 [==============================] - 0s 9ms/step - loss: 0.3122 - accuracy: 0.8951 - val_loss: 0.3079 - val_accuracy: 0.8847\n",
      "Epoch 3/20\n",
      "30/30 [==============================] - 0s 8ms/step - loss: 0.2330 - accuracy: 0.9227 - val_loss: 0.2955 - val_accuracy: 0.8818\n",
      "Epoch 4/20\n",
      "30/30 [==============================] - 0s 8ms/step - loss: 0.1875 - accuracy: 0.9363 - val_loss: 0.2794 - val_accuracy: 0.8875\n",
      "Epoch 5/20\n",
      "30/30 [==============================] - 0s 8ms/step - loss: 0.1596 - accuracy: 0.9485 - val_loss: 0.2982 - val_accuracy: 0.8837\n",
      "Epoch 6/20\n",
      "30/30 [==============================] - 0s 8ms/step - loss: 0.1365 - accuracy: 0.9568 - val_loss: 0.3092 - val_accuracy: 0.8762\n",
      "Epoch 7/20\n",
      "30/30 [==============================] - 0s 8ms/step - loss: 0.1189 - accuracy: 0.9623 - val_loss: 0.3078 - val_accuracy: 0.8845\n",
      "Epoch 8/20\n",
      "30/30 [==============================] - 0s 8ms/step - loss: 0.1010 - accuracy: 0.9702 - val_loss: 0.3068 - val_accuracy: 0.8872\n",
      "Epoch 9/20\n",
      "30/30 [==============================] - 0s 8ms/step - loss: 0.0880 - accuracy: 0.9749 - val_loss: 0.3756 - val_accuracy: 0.8721\n",
      "Epoch 10/20\n",
      "30/30 [==============================] - 0s 8ms/step - loss: 0.0795 - accuracy: 0.9770 - val_loss: 0.3409 - val_accuracy: 0.8786\n",
      "Epoch 11/20\n",
      "30/30 [==============================] - 0s 8ms/step - loss: 0.0630 - accuracy: 0.9852 - val_loss: 0.3552 - val_accuracy: 0.8802\n",
      "Epoch 12/20\n",
      "30/30 [==============================] - 0s 10ms/step - loss: 0.0581 - accuracy: 0.9865 - val_loss: 0.3849 - val_accuracy: 0.8765\n",
      "Epoch 13/20\n",
      "30/30 [==============================] - 0s 9ms/step - loss: 0.0492 - accuracy: 0.9883 - val_loss: 0.4231 - val_accuracy: 0.8653\n",
      "Epoch 14/20\n",
      "30/30 [==============================] - 0s 8ms/step - loss: 0.0413 - accuracy: 0.9923 - val_loss: 0.4170 - val_accuracy: 0.8758\n",
      "Epoch 15/20\n",
      "30/30 [==============================] - 0s 8ms/step - loss: 0.0353 - accuracy: 0.9937 - val_loss: 0.4375 - val_accuracy: 0.8752\n",
      "Epoch 16/20\n",
      "30/30 [==============================] - 0s 8ms/step - loss: 0.0307 - accuracy: 0.9949 - val_loss: 0.4598 - val_accuracy: 0.8740\n",
      "Epoch 17/20\n",
      "30/30 [==============================] - 0s 8ms/step - loss: 0.0275 - accuracy: 0.9945 - val_loss: 0.4883 - val_accuracy: 0.8671\n",
      "Epoch 18/20\n",
      "30/30 [==============================] - 0s 8ms/step - loss: 0.0246 - accuracy: 0.9961 - val_loss: 0.5126 - val_accuracy: 0.8723\n",
      "Epoch 19/20\n",
      "30/30 [==============================] - 0s 8ms/step - loss: 0.0155 - accuracy: 0.9990 - val_loss: 0.5510 - val_accuracy: 0.8695\n",
      "Epoch 20/20\n",
      "30/30 [==============================] - 0s 8ms/step - loss: 0.0214 - accuracy: 0.9963 - val_loss: 0.5478 - val_accuracy: 0.8703\n"
     ]
    }
   ],
   "source": [
    "# 训练模型\n",
    "history = model.fit(partial_x_train,\n",
    "                    partial_y_train,\n",
    "                    epochs=20,\n",
    "                    batch_size=512,\n",
    "                    validation_data = (x_val, y_val))"
   ]
  },
  {
   "cell_type": "markdown",
   "id": "927db0b7-810d-48d6-94b3-959967ad473f",
   "metadata": {},
   "source": [
    "调用`model.fit()`返回了一个**History对象**，这个对象有一个名为history的成员，它是一个字典，包含训练过程的全部数据。"
   ]
  },
  {
   "cell_type": "code",
   "execution_count": 11,
   "id": "de1164a5-29a9-4a5c-9112-1492d4187b0a",
   "metadata": {},
   "outputs": [
    {
     "data": {
      "text/plain": [
       "dict_keys(['loss', 'accuracy', 'val_loss', 'val_accuracy'])"
      ]
     },
     "execution_count": 11,
     "metadata": {},
     "output_type": "execute_result"
    }
   ],
   "source": [
    "history_dict = history.history\n",
    "history_dict.keys()"
   ]
  },
  {
   "cell_type": "markdown",
   "id": "9165097c-4885-4688-80bf-91864f262951",
   "metadata": {},
   "source": [
    "### 使用Matplotlib绘制数据变化图"
   ]
  },
  {
   "cell_type": "markdown",
   "id": "641ebaa3-8ec0-4345-a476-88183e1bf386",
   "metadata": {},
   "source": [
    "#### 绘制训练损失和验证损失"
   ]
  },
  {
   "cell_type": "code",
   "execution_count": 12,
   "id": "ceb5e124-ecaa-4bde-9d6b-4f8413d32ad8",
   "metadata": {},
   "outputs": [
    {
     "data": {
      "image/png": "[encoded data removed]",
      "text/plain": [
       "<Figure size 640x480 with 1 Axes>"
      ]
     },
     "metadata": {},
     "output_type": "display_data"
    }
   ],
   "source": [
    "import matplotlib.pyplot as plt\n",
    "history_dict = history.history\n",
    "loss_values = history_dict[\"loss\"]\n",
    "val_loss_values = history_dict[\"val_loss\"]\n",
    "epochs = range(1, len(loss_values) + 1)\n",
    "# bo表示\"蓝色圆点\"\n",
    "plt.plot(epochs, loss_values, \"bo\", label=\"Training loss\")\n",
    "# b表示\"蓝色实线\"\n",
    "plt.plot(epochs, val_loss_values, \"b\", label=\"Validation loss\")\n",
    "plt.title(\"Training and Validation loss\")\n",
    "plt.xlabel(\"Epochs\")\n",
    "plt.ylabel(\"Loss\")\n",
    "plt.legend()\n",
    "plt.show()"
   ]
  },
  {
   "cell_type": "markdown",
   "id": "42487611-68c8-4146-ad71-d5db08940c2b",
   "metadata": {},
   "source": [
    "#### 绘制训练精度和验证精度"
   ]
  },
  {
   "cell_type": "code",
   "execution_count": 13,
   "id": "e9285c9e-712e-4bd4-8cfe-42da94ee6f3b",
   "metadata": {},
   "outputs": [
    {
     "data": {
      "image/png": "[encoded data removed]",
      "text/plain": [
       "<Figure size 640x480 with 1 Axes>"
      ]
     },
     "metadata": {},
     "output_type": "display_data"
    }
   ],
   "source": [
    "plt.clf()\n",
    "acc = history_dict[\"accuracy\"]\n",
    "val_acc = history_dict[\"val_accuracy\"]\n",
    "plt.plot(epochs, acc, \"bo\", label=\"Training acc\")\n",
    "plt.plot(epochs, val_acc, \"b\", label=\"Validation acc\")\n",
    "plt.title(\"Training and Validation accuracy\")\n",
    "plt.xlabel(\"Epochs\")\n",
    "plt.ylabel(\"Accuracy\")\n",
    "plt.legend()\n",
    "plt.show()"
   ]
  },
  {
   "cell_type": "markdown",
   "id": "8d30575e-5cee-4333-aac9-81828a2c1bbb",
   "metadata": {},
   "source": [
    "## 利用训练好的模型对新数据进行预测"
   ]
  },
  {
   "cell_type": "code",
   "execution_count": 14,
   "id": "4a021d76-db27-44d1-8a79-12616fc330fb",
   "metadata": {},
   "outputs": [
    {
     "name": "stdout",
     "output_type": "stream",
     "text": [
      "782/782 [==============================] - 1s 830us/step\n"
     ]
    },
    {
     "data": {
      "text/plain": [
       "array([[0.02922997],\n",
       "       [0.9999999 ],\n",
       "       [0.7995538 ],\n",
       "       ...,\n",
       "       [0.00368623],\n",
       "       [0.01071579],\n",
       "       [0.9372384 ]], dtype=float32)"
      ]
     },
     "execution_count": 14,
     "metadata": {},
     "output_type": "execute_result"
    }
   ],
   "source": [
    "model.predict(x_test)"
   ]
  },
  {
   "cell_type": "code",
   "execution_count": 15,
   "id": "3d872ccb-7306-41bb-95f6-54ebecfefd84",
   "metadata": {},
   "outputs": [
    {
     "name": "stdout",
     "output_type": "stream",
     "text": [
      "782/782 [==============================] - 1s 815us/step - loss: 0.5919 - accuracy: 0.8583\n"
     ]
    }
   ],
   "source": [
    "results = model.evaluate(x_test, y_test)"
   ]
  },
  {
   "cell_type": "code",
   "execution_count": 16,
   "id": "252a3358-5034-486e-abaa-f73e49f0ca73",
   "metadata": {},
   "outputs": [
    {
     "data": {
      "text/plain": [
       "[0.5919103026390076, 0.8583199977874756]"
      ]
     },
     "execution_count": 16,
     "metadata": {},
     "output_type": "execute_result"
    }
   ],
   "source": [
    "results"
   ]
  },
  {
   "cell_type": "markdown",
   "id": "c7a10e43-0a70-4ee8-a306-43e8e3ed58a4",
   "metadata": {
    "jp-MarkdownHeadingCollapsed": true
   },
   "source": [
    "# 新闻分类：多分类问题示例"
   ]
  },
  {
   "cell_type": "markdown",
   "id": "7c210f50-18d0-4d9c-832f-439e8f249877",
   "metadata": {},
   "source": [
    "上面介绍了如何用密集连接神经网络将向量输入划分为两个互斥的类别。但如果类别不止两个，要如何训练模型？</p>\n",
    "将构建一个模型，把路透社新闻划分到46个互斥的主题中。由于有多个类别，因此这是一个**多分类**问题。具体来说这是一个**单标签、多分类**问题。如果是每个数据点可以划分到多个类别（主题）中，那就是**多标签、多分类**问题。</p>"
   ]
  },
  {
   "cell_type": "markdown",
   "id": "be0a49aa-6c0d-4cd2-8850-a7db217ba39b",
   "metadata": {},
   "source": [
    "## 路透社数据集"
   ]
  },
  {
   "cell_type": "markdown",
   "id": "19dda596-6cae-4870-ba24-b2d1c88a9c7e",
   "metadata": {},
   "source": [
    "### 加载路透社数据集"
   ]
  },
  {
   "cell_type": "code",
   "execution_count": 18,
   "id": "9ccab2d1-5771-4fe6-8c5d-94f5512fddd6",
   "metadata": {},
   "outputs": [],
   "source": [
    "from tensorflow.keras.datasets import reuters\n",
    "(train_data, train_labels), (test_data, test_labels) = reuters.load_data(num_words=10000)"
   ]
  },
  {
   "cell_type": "markdown",
   "id": "81b9ece2-5984-4382-a6b0-ccfa6d7d44cf",
   "metadata": {},
   "source": [
    "## 准备数据"
   ]
  },
  {
   "cell_type": "markdown",
   "id": "923ccad4-ba63-4d13-a2f5-0dd433ee5890",
   "metadata": {},
   "source": [
    "### 使用multi-hot对数据进行编码"
   ]
  },
  {
   "cell_type": "code",
   "execution_count": 19,
   "id": "aaedf955-f932-457c-bc0f-38077276583d",
   "metadata": {},
   "outputs": [],
   "source": [
    "# 将训练数据向量化\n",
    "x_train = vectorize_sequences(train_data)\n",
    "# 将测试数据向量化\n",
    "x_test = vectorize_sequences(test_data)"
   ]
  },
  {
   "cell_type": "markdown",
   "id": "f063be3a-3fcd-493c-9b37-c291027a8689",
   "metadata": {},
   "source": [
    "### 标签向量化"
   ]
  },
  {
   "cell_type": "markdown",
   "id": "9318d779-9184-4b27-89ed-4b2fc7ca2528",
   "metadata": {},
   "source": [
    "将标签向量化有两种方法：\n",
    "- 将标签列表转换成一个整数张量。\n",
    "- 使用one-hot编码。one-hot编码是分类数据的一种常见格式，也叫**分类编码**"
   ]
  },
  {
   "cell_type": "code",
   "execution_count": 20,
   "id": "bb553152-8379-427d-8796-a722b3e91335",
   "metadata": {},
   "outputs": [],
   "source": [
    "# 使用one-hot编码将标签向量化\n",
    "def to_one_hot(labels, dimension=46):\n",
    "    results = np.zeros((len(labels), dimension))\n",
    "    for i, label in enumerate(labels):\n",
    "        results[i, label] = 1\n",
    "    return results\n",
    "\n",
    "# 将训练标签向量化\n",
    "y_train = to_one_hot(train_labels)\n",
    "y_test = to_one_hot(test_labels)"
   ]
  },
  {
   "cell_type": "markdown",
   "id": "fc4276a6-2061-47a0-8cc4-9b05cf150a00",
   "metadata": {},
   "source": [
    "#### Keras内置方法实现one-hot编码"
   ]
  },
  {
   "cell_type": "code",
   "execution_count": 21,
   "id": "cb27f6a3-b15a-40a6-acf7-cf6d36b8cd20",
   "metadata": {},
   "outputs": [],
   "source": [
    "from tensorflow.keras.utils import to_categorical\n",
    "\n",
    "y_train = to_categorical(train_labels)\n",
    "t_test = to_categorical(test_labels)"
   ]
  },
  {
   "cell_type": "markdown",
   "id": "687b42ba-924c-49df-a3eb-e6c8ef00172f",
   "metadata": {},
   "source": [
    "## 构建模型"
   ]
  },
  {
   "cell_type": "code",
   "execution_count": 22,
   "id": "533e7061-9f34-41aa-9003-dee61ab9fdf5",
   "metadata": {},
   "outputs": [],
   "source": [
    "# 模型定义\n",
    "model = keras.Sequential([\n",
    "    layers.Dense(64, activation=\"relu\"),\n",
    "    layers.Dense(64, activation=\"relu\"),\n",
    "    layers.Dense(46, activation=\"softmax\")])"
   ]
  },
  {
   "cell_type": "markdown",
   "id": "61d650dd-0dc9-4603-afd1-6a60d004c6bf",
   "metadata": {},
   "source": [
    "关于模型架构应注意以下两点：\n",
    "1. 模型的最后一层是大小为46的Dense层。也就是说，对于每个输入样本，神经网络都会输出一个46维向量。这个向量的每个元素（每个维度）代表不同的输出类别。\n",
    "2. 最后一层使用了`softmax`激活函数。模型将输出一个在46个输出类别上的**概率分布** ———— 对于每个输入样本，模型都会生成一个46维输出向量，其中`output[i]`是样本属于第i个类别的概率。46个概率值的总和为1."
   ]
  },
  {
   "cell_type": "markdown",
   "id": "9439152a-4e5f-44f2-b704-32074bf46a53",
   "metadata": {},
   "source": [
    "### 选择损失函数"
   ]
  },
  {
   "cell_type": "markdown",
   "id": "1cf2d0ef-36db-4b0f-98a7-e03359ccf633",
   "metadata": {},
   "source": [
    "对于本次例子，最好的损失函数是`categorical_crossentropy`（分类交叉熵）。它衡量的是两个概率分布之间的距离，这里两个概率分布分别是模型输出的概率分布和标签的真实分布。我们训练模型将这两个分布的距离最小化，从而让输出结果尽可能接近真实标签。"
   ]
  },
  {
   "cell_type": "code",
   "execution_count": 23,
   "id": "e3c9e36f-c3dd-4a72-8cc0-cee24f4b6654",
   "metadata": {},
   "outputs": [],
   "source": [
    "# 编译模型\n",
    "model.compile(optimizer=\"rmsprop\", \n",
    "              loss=\"categorical_crossentropy\", \n",
    "              metrics=[\"accuracy\"])"
   ]
  },
  {
   "cell_type": "markdown",
   "id": "14a77eae-133b-412f-aff0-bde0e0a17385",
   "metadata": {},
   "source": [
    "## 验证你的方法"
   ]
  },
  {
   "cell_type": "markdown",
   "id": "4932523e-7b64-4d5d-b84e-85630ea7b845",
   "metadata": {},
   "source": [
    "### 留出验证集"
   ]
  },
  {
   "cell_type": "code",
   "execution_count": 24,
   "id": "863ea69f-0ce7-4478-a3ca-ba1e40b1a784",
   "metadata": {},
   "outputs": [],
   "source": [
    "x_val = x_train[:1000]\n",
    "partial_x_train = x_train[1000:]\n",
    "y_val = y_train[:1000]\n",
    "partial_y_train = y_train[1000:]"
   ]
  },
  {
   "cell_type": "markdown",
   "id": "ed45dd63-8c30-472c-bc34-70e586cb7044",
   "metadata": {},
   "source": [
    "### 训练模型"
   ]
  },
  {
   "cell_type": "code",
   "execution_count": 25,
   "id": "fa8282e5-d503-45e7-85ba-f19bd4235891",
   "metadata": {},
   "outputs": [
    {
     "name": "stdout",
     "output_type": "stream",
     "text": [
      "Epoch 1/20\n",
      "16/16 [==============================] - 1s 26ms/step - loss: 2.7551 - accuracy: 0.4951 - val_loss: 1.8505 - val_accuracy: 0.6300\n",
      "Epoch 2/20\n",
      "16/16 [==============================] - 0s 16ms/step - loss: 1.5383 - accuracy: 0.6848 - val_loss: 1.3632 - val_accuracy: 0.6920\n",
      "Epoch 3/20\n",
      "16/16 [==============================] - 0s 14ms/step - loss: 1.1696 - accuracy: 0.7482 - val_loss: 1.1884 - val_accuracy: 0.7300\n",
      "Epoch 4/20\n",
      "16/16 [==============================] - 0s 14ms/step - loss: 0.9580 - accuracy: 0.7964 - val_loss: 1.0646 - val_accuracy: 0.7680\n",
      "Epoch 5/20\n",
      "16/16 [==============================] - 0s 15ms/step - loss: 0.7941 - accuracy: 0.8325 - val_loss: 0.9898 - val_accuracy: 0.7970\n",
      "Epoch 6/20\n",
      "16/16 [==============================] - 0s 15ms/step - loss: 0.6665 - accuracy: 0.8568 - val_loss: 0.9364 - val_accuracy: 0.8080\n",
      "Epoch 7/20\n",
      "16/16 [==============================] - 0s 14ms/step - loss: 0.5588 - accuracy: 0.8807 - val_loss: 0.9021 - val_accuracy: 0.8110\n",
      "Epoch 8/20\n",
      "16/16 [==============================] - 0s 14ms/step - loss: 0.4747 - accuracy: 0.8976 - val_loss: 0.8665 - val_accuracy: 0.8190\n",
      "Epoch 9/20\n",
      "16/16 [==============================] - 0s 14ms/step - loss: 0.4008 - accuracy: 0.9142 - val_loss: 0.8644 - val_accuracy: 0.8250\n",
      "Epoch 10/20\n",
      "16/16 [==============================] - 0s 14ms/step - loss: 0.3376 - accuracy: 0.9258 - val_loss: 0.8651 - val_accuracy: 0.8100\n",
      "Epoch 11/20\n",
      "16/16 [==============================] - 0s 15ms/step - loss: 0.2971 - accuracy: 0.9345 - val_loss: 0.8676 - val_accuracy: 0.8180\n",
      "Epoch 12/20\n",
      "16/16 [==============================] - 0s 15ms/step - loss: 0.2571 - accuracy: 0.9409 - val_loss: 0.8583 - val_accuracy: 0.8240\n",
      "Epoch 13/20\n",
      "16/16 [==============================] - 0s 14ms/step - loss: 0.2294 - accuracy: 0.9461 - val_loss: 0.8709 - val_accuracy: 0.8130\n",
      "Epoch 14/20\n",
      "16/16 [==============================] - 0s 15ms/step - loss: 0.2023 - accuracy: 0.9489 - val_loss: 0.9049 - val_accuracy: 0.8140\n",
      "Epoch 15/20\n",
      "16/16 [==============================] - 0s 15ms/step - loss: 0.1914 - accuracy: 0.9515 - val_loss: 0.8961 - val_accuracy: 0.8160\n",
      "Epoch 16/20\n",
      "16/16 [==============================] - 0s 15ms/step - loss: 0.1756 - accuracy: 0.9521 - val_loss: 0.8712 - val_accuracy: 0.8250\n",
      "Epoch 17/20\n",
      "16/16 [==============================] - 0s 15ms/step - loss: 0.1534 - accuracy: 0.9579 - val_loss: 0.9025 - val_accuracy: 0.8200\n",
      "Epoch 18/20\n",
      "16/16 [==============================] - 0s 15ms/step - loss: 0.1526 - accuracy: 0.9554 - val_loss: 0.9196 - val_accuracy: 0.8150\n",
      "Epoch 19/20\n",
      "16/16 [==============================] - 0s 15ms/step - loss: 0.1403 - accuracy: 0.9545 - val_loss: 0.9308 - val_accuracy: 0.8200\n",
      "Epoch 20/20\n",
      "16/16 [==============================] - 0s 15ms/step - loss: 0.1413 - accuracy: 0.9563 - val_loss: 0.9132 - val_accuracy: 0.8230\n"
     ]
    }
   ],
   "source": [
    "history = model.fit(partial_x_train, \n",
    "                    partial_y_train, \n",
    "                    epochs=20, \n",
    "                    batch_size=512, \n",
    "                    validation_data=(x_val, y_val))"
   ]
  },
  {
   "cell_type": "markdown",
   "id": "9234721f-3de4-49b5-89e1-c85f5c361f27",
   "metadata": {},
   "source": [
    "### 绘制训练损失和验证损失"
   ]
  },
  {
   "cell_type": "code",
   "execution_count": 26,
   "id": "76ccc29b-9c4d-470a-9a74-27b9d46f6483",
   "metadata": {},
   "outputs": [
    {
     "data": {
      "image/png": "[encoded data removed]",
      "text/plain": [
       "<Figure size 640x480 with 1 Axes>"
      ]
     },
     "metadata": {},
     "output_type": "display_data"
    }
   ],
   "source": [
    "plt.clf()\n",
    "loss = history.history[\"loss\"]\n",
    "val_loss = history.history[\"val_loss\"]\n",
    "epochs = range(1, len(loss) + 1)\n",
    "plt.plot(epochs, loss, \"bo\", label=\"Training loss\")\n",
    "plt.plot(epochs, val_loss, \"b\", label=\"Validation loss\")\n",
    "plt.title(\"Training and Validation loss\")\n",
    "plt.xlabel(\"Epochs\")\n",
    "plt.ylabel(\"Loss\")\n",
    "plt.legend()\n",
    "plt.show()"
   ]
  },
  {
   "cell_type": "markdown",
   "id": "9e6e9f52-a113-4a0b-ad90-70e654da0344",
   "metadata": {},
   "source": [
    "### 绘制训练精度和验证精度"
   ]
  },
  {
   "cell_type": "code",
   "execution_count": 27,
   "id": "1c771eca-bf31-4502-9478-0b47a6f5da0d",
   "metadata": {},
   "outputs": [
    {
     "data": {
      "image/png": "[encoded data removed]",
      "text/plain": [
       "<Figure size 640x480 with 1 Axes>"
      ]
     },
     "metadata": {},
     "output_type": "display_data"
    }
   ],
   "source": [
    "plt.clf()\n",
    "acc = history.history[\"accuracy\"]\n",
    "val_acc = history.history[\"val_accuracy\"]\n",
    "plt.plot(epochs, acc, \"bo\", label=\"Training accuracy\")\n",
    "plt.plot(epochs, val_acc, \"b\", label=\"Validation accuracy\")\n",
    "plt.title(\"Training and Validation accuracy\")\n",
    "plt.xlabel(\"Epochs\")\n",
    "plt.ylabel(\"Accuracy\")\n",
    "plt.legend()\n",
    "plt.show()"
   ]
  },
  {
   "cell_type": "markdown",
   "id": "5ec88512-b331-4d21-a522-e04745c68cb0",
   "metadata": {},
   "source": [
    "### 模型评估"
   ]
  },
  {
   "cell_type": "code",
   "execution_count": 30,
   "id": "094ce441-dd49-40a8-90d4-07f06d5c9829",
   "metadata": {},
   "outputs": [
    {
     "name": "stdout",
     "output_type": "stream",
     "text": [
      "71/71 [==============================] - 0s 1ms/step - loss: 1.0070 - accuracy: 0.7992\n"
     ]
    },
    {
     "data": {
      "text/plain": [
       "[1.0069724321365356, 0.799198567867279]"
      ]
     },
     "execution_count": 30,
     "metadata": {},
     "output_type": "execute_result"
    }
   ],
   "source": [
    "results = model.evaluate(x_test, y_test)\n",
    "results"
   ]
  },
  {
   "cell_type": "markdown",
   "id": "3ba5e2b1-5840-4f2b-aa89-71918e7a9ab2",
   "metadata": {},
   "source": [
    "### 随机精度验证"
   ]
  },
  {
   "cell_type": "code",
   "execution_count": 31,
   "id": "cee3a036-ad6f-4757-88b2-2b9587094188",
   "metadata": {},
   "outputs": [
    {
     "data": {
      "text/plain": [
       "0.19278717720391808"
      ]
     },
     "execution_count": 31,
     "metadata": {},
     "output_type": "execute_result"
    }
   ],
   "source": [
    "import copy\n",
    "test_labels_copy = copy.copy(test_labels)\n",
    "np.random.shuffle(test_labels)\n",
    "hits_array = np.array(test_labels) == np.array(test_labels_copy)\n",
    "hits_array.mean()"
   ]
  },
  {
   "cell_type": "markdown",
   "id": "237b5274-35b1-4967-8b82-6035a1053e57",
   "metadata": {},
   "source": [
    "## 对新数据进行预测"
   ]
  },
  {
   "cell_type": "code",
   "execution_count": 32,
   "id": "c75bb6fc-5aa8-4bfd-9cb2-c3b62f7e50d1",
   "metadata": {},
   "outputs": [
    {
     "name": "stdout",
     "output_type": "stream",
     "text": [
      "71/71 [==============================] - 0s 1ms/step\n"
     ]
    }
   ],
   "source": [
    "predictions = model.predict(x_test)"
   ]
  },
  {
   "cell_type": "code",
   "execution_count": 33,
   "id": "d167f684-381d-4e77-9c08-4842c2605a91",
   "metadata": {},
   "outputs": [
    {
     "data": {
      "text/plain": [
       "(46,)"
      ]
     },
     "execution_count": 33,
     "metadata": {},
     "output_type": "execute_result"
    }
   ],
   "source": [
    "predictions[0].shape"
   ]
  },
  {
   "cell_type": "code",
   "execution_count": 34,
   "id": "761d1b29-2cae-470d-b514-da09c5edbff3",
   "metadata": {},
   "outputs": [
    {
     "data": {
      "text/plain": [
       "1.0"
      ]
     },
     "execution_count": 34,
     "metadata": {},
     "output_type": "execute_result"
    }
   ],
   "source": [
    "np.sum(predictions[0])"
   ]
  },
  {
   "cell_type": "code",
   "execution_count": 35,
   "id": "dd516054-2ea4-4b06-b515-9108be378008",
   "metadata": {},
   "outputs": [
    {
     "data": {
      "text/plain": [
       "3"
      ]
     },
     "execution_count": 35,
     "metadata": {},
     "output_type": "execute_result"
    }
   ],
   "source": [
    "np.argmax(predictions[0])"
   ]
  },
  {
   "cell_type": "markdown",
   "id": "5b53370f-9c27-4896-9a86-0d2c2c446378",
   "metadata": {},
   "source": [
    "## 处理标签和损失的另一种方法"
   ]
  },
  {
   "cell_type": "markdown",
   "id": "4082f157-29bb-4f1a-8864-4e98468e4c40",
   "metadata": {},
   "source": [
    "使用另一种编码标签的方法：将其转换为整数张量。"
   ]
  },
  {
   "cell_type": "code",
   "execution_count": 37,
   "id": "5131c07a-c718-432e-80b7-0c771e91eb93",
   "metadata": {},
   "outputs": [],
   "source": [
    "y_train = np.array(train_labels)\n",
    "y_test = np.array(test_labels)"
   ]
  },
  {
   "cell_type": "markdown",
   "id": "7ca7fc2a-8eba-40c1-af48-86f978e7b718",
   "metadata": {},
   "source": [
    "### 损失函数的选择"
   ]
  },
  {
   "cell_type": "markdown",
   "id": "fb3ca3e4-7430-4426-a746-340cc647a54a",
   "metadata": {},
   "source": [
    "对于将标签转换为整数张量的方法，在模型构建上，唯一需要改变的就是**损失函数的选择**。\n",
    "- one-hot标签使用的损失函数是categorical_crossentropy，标签应遵循分类编码。\n",
    "- 整数标签使用的损失函数是sparse_categorical_crossentropy（稀疏分类交叉熵）损失函数。"
   ]
  },
  {
   "cell_type": "code",
   "execution_count": 38,
   "id": "df690a13-af7a-4e86-8b49-b2f8a281eebc",
   "metadata": {},
   "outputs": [],
   "source": [
    "model.compile(optimizer=\"rmsprop\", \n",
    "              loss=\"sparse_categorical_crossentropy\", \n",
    "              metrics=[\"accuracy\"])"
   ]
  },
  {
   "cell_type": "markdown",
   "id": "6213bf45-c8cc-4577-a7d2-25ffc5298969",
   "metadata": {},
   "source": [
    "# 预测放假：标量回归问题示例"
   ]
  },
  {
   "cell_type": "markdown",
   "id": "9a56bc12-0bba-4b99-85ad-88c9a5163d05",
   "metadata": {},
   "source": [
    "常见监督学习问题：\n",
    "- **分类问题**，其目标是预测输入数据点对应的单一离散标签。\n",
    "- **回归问题**，预测的是一个连续值，而不是离散标签。比如：根据气象数据预测明日气温，或者根据软件说明书预测完成软件项目所需时间。<p>\n",
    "\n",
    "**注意**：不要将**回归**问题与**logistic回归**算法混为一谈。logistic回归不是回归算法，而是分类算法。"
   ]
  },
  {
   "cell_type": "markdown",
   "id": "cc9740d0-7d63-4d13-8581-a1c6c3cb4fd2",
   "metadata": {},
   "source": [
    "## 波士顿房价数据集"
   ]
  },
  {
   "cell_type": "markdown",
   "id": "37daec11-08e1-4e2d-b76e-a666a5a89068",
   "metadata": {},
   "source": [
    "### 加载波士顿房价数据集"
   ]
  },
  {
   "cell_type": "code",
   "execution_count": 39,
   "id": "1498f81a-55b5-431c-9bda-3f01230e37c2",
   "metadata": {},
   "outputs": [
    {
     "name": "stdout",
     "output_type": "stream",
     "text": [
      "Downloading data from https://storage.googleapis.com/tensorflow/tf-keras-datasets/boston_housing.npz\n",
      "57026/57026 [==============================] - 1s 11us/step\n"
     ]
    }
   ],
   "source": [
    "from tensorflow.keras.datasets import boston_housing\n",
    "\n",
    "(train_data, train_targets), (test_data, test_targets) = (boston_housing.load_data())"
   ]
  },
  {
   "cell_type": "code",
   "execution_count": 40,
   "id": "03345893-4481-43ca-b581-184e8df89c7f",
   "metadata": {},
   "outputs": [
    {
     "data": {
      "text/plain": [
       "(404, 13)"
      ]
     },
     "execution_count": 40,
     "metadata": {},
     "output_type": "execute_result"
    }
   ],
   "source": [
    "train_data.shape"
   ]
  },
  {
   "cell_type": "code",
   "execution_count": 41,
   "id": "4be49942-c424-4d06-9263-0f070fbfba49",
   "metadata": {},
   "outputs": [
    {
     "data": {
      "text/plain": [
       "(102, 13)"
      ]
     },
     "execution_count": 41,
     "metadata": {},
     "output_type": "execute_result"
    }
   ],
   "source": [
    "test_data.shape"
   ]
  },
  {
   "cell_type": "markdown",
   "id": "d931ded3-4a53-4a27-8c8d-4dd2a29d5974",
   "metadata": {},
   "source": [
    "## 准备数据"
   ]
  },
  {
   "cell_type": "markdown",
   "id": "0e547f08-9812-48ab-9957-ae5e1ae5af9e",
   "metadata": {},
   "source": [
    "将取值范围差异很大的数据输入到神经网络中，是不可行的。模型可能会自动适应这种取值范围不同的数据，但这肯定会让学习变得更加困难。<p>\n",
    "对于这类数据，普遍采用的**最佳处理方法**是对每个特征进行标准化，即对于输入数据的每个特征（输入数据矩阵的每一列），减去特征平均值，再除以标准差，这样得到的特征平均值为0，标准差为1。**用NumPy可以很容易实现数据标准化**"
   ]
  },
  {
   "cell_type": "code",
   "execution_count": 42,
   "id": "3f02178c-dbba-42c1-b0d1-42b7517bcb1a",
   "metadata": {},
   "outputs": [],
   "source": [
    "# 计算特征平均值\n",
    "mean = train_data.mean(axis=0)\n",
    "# 每个特征减去平均值\n",
    "train_data -= mean\n",
    "# 计算特征标准差\n",
    "std = train_data.std(axis=0)\n",
    "# 每个特征除以特征标准差\n",
    "train_data /= std\n",
    "\n",
    "# 测试数据集\n",
    "test_data -= mean\n",
    "test_data /= std"
   ]
  },
  {
   "cell_type": "markdown",
   "id": "d9a0f07d-ebef-48b0-a0da-47745cb32b49",
   "metadata": {},
   "source": [
    "**注意**，对测试数据集进行标准化的，特征平均值和特征标准差，也要使用训练数据集中计算得到的。在深度学习工作流程中，***不能使用在测试数据上计算得到的任何结果***，即使是将数据标准化这么简单的事情也不行。"
   ]
  },
  {
   "cell_type": "markdown",
   "id": "d667fa3b-1257-48c0-90e2-f25249cda1e7",
   "metadata": {},
   "source": [
    "## 构建模型"
   ]
  },
  {
   "cell_type": "code",
   "execution_count": 43,
   "id": "aaa935d8-b859-41ef-8b75-b9f6e7fa12fc",
   "metadata": {},
   "outputs": [],
   "source": [
    "def build_model():\n",
    "    model = keras.Sequential([\n",
    "        layers.Dense(64, activation=\"relu\"),\n",
    "        layers.Dense(64, activation=\"relu\"),\n",
    "        layers.Dense(1)])\n",
    "    model.compile(optimizer=\"rmsprop\", \n",
    "                  loss=\"mse\", \n",
    "                  metrics=[\"mae\"])\n",
    "    return model"
   ]
  },
  {
   "cell_type": "markdown",
   "id": "c416c590-d3b8-4a1f-9509-e5b9d85d36a0",
   "metadata": {},
   "source": [
    "模型的最后一层只有一个单元且没有激活函数，它是一个线性层。这是标量回归（标量回归是预测单一连续值的回归）的典型设置。添加激活函数将限制输出范围。<p>\n",
    "**注意**，编译模型用的是mse损失函数，即**均方误差（mean squared error, MSE）**，预测值与目标值之差的平方。这是回归问题的常用的损失函数。 <p>\n",
    "在训练过程中还要监控一个新指标：**平均绝对误差（mean absolute error, MAE）**。它是预测值与目标值之差的绝对值。eg：这个问题的MAE等于0.5，就表示预测放假与实际价格平均相差500美元。"
   ]
  },
  {
   "cell_type": "markdown",
   "id": "65be6611-52de-4976-8a68-98e5eb24ee5a",
   "metadata": {},
   "source": [
    "## 利用K折交叉验证来验证你的方法"
   ]
  },
  {
   "cell_type": "markdown",
   "id": "f565f850-6f63-41dc-b3be-612987269fc6",
   "metadata": {},
   "source": [
    "当数据点很少时，最佳做法就是使用**K折交叉验证**。\n",
    "![K折交叉验证](images/K折交叉验证.png \"K折交叉验证\") <p>\n",
    "这样方法将可用数据划分为K个分区（K通常取4或5），实例化K个相同的模型，然后将每个模型在K-1个分区上训练，并在剩下的一个分区上进行评估。模型的验证分数等于这K个验证分数的平均值。"
   ]
  },
  {
   "cell_type": "code",
   "execution_count": 46,
   "id": "19c022b1-9530-4169-9018-228b4832c7b6",
   "metadata": {},
   "outputs": [
    {
     "name": "stdout",
     "output_type": "stream",
     "text": [
      "Processing fold #0\n",
      "Processing fold #1\n",
      "Processing fold #2\n",
      "Processing fold #3\n",
      "[2.0462772846221924, 2.5072996616363525, 2.466883897781372, 2.3708972930908203]\n",
      "2.3478395342826843\n"
     ]
    }
   ],
   "source": [
    "k = 4\n",
    "num_val_samples = len(train_data) // k\n",
    "num_epochs = 100\n",
    "all_scores = []\n",
    "for i in range(k):\n",
    "    print(f\"Processing fold #{i}\")\n",
    "    # 准备验证数据：第k个分区的数据\n",
    "    val_data = train_data[i * num_val_samples: (i + 1) * num_val_samples]\n",
    "    val_targets = train_targets[i * num_val_samples: (i + 1) * num_val_samples]\n",
    "    # 准备训练数据：其余所有分区的数据\n",
    "    partial_train_data = np.concatenate(\n",
    "        [train_data[:i * num_val_samples], train_data[(i + 1) * num_val_samples:]],\n",
    "        axis=0)\n",
    "    partial_train_targets = np.concatenate(\n",
    "        [train_targets[:i * num_val_samples], train_targets[(i + 1) * num_val_samples:]],\n",
    "        axis=0)\n",
    "    # 构建Keras模型\n",
    "    model = build_model()\n",
    "    # 训练模型（静默模式，verbose=0）\n",
    "    model.fit(partial_train_data, \n",
    "              partial_train_targets, \n",
    "              epochs=num_epochs, \n",
    "              batch_size=16, \n",
    "              verbose=0)\n",
    "    # 在验证数据上评估模型\n",
    "    val_mse, val_mae = model.evaluate(val_data, val_targets, verbose=0)\n",
    "    all_scores.append(val_mae)\n",
    "\n",
    "# 运行结果如下\n",
    "print(all_scores)\n",
    "print(np.mean(all_scores))"
   ]
  },
  {
   "cell_type": "markdown",
   "id": "129d8190-675d-45cb-8c44-509450a4e146",
   "metadata": {},
   "source": [
    "### 记录模型每轮的表现"
   ]
  },
  {
   "cell_type": "markdown",
   "id": "83af5ccf-db19-4f07-a764-b06bdef80d62",
   "metadata": {},
   "source": [
    "为了记录模型每轮的表现，需要修改训练循环，在每轮都保存每折的验证分数。"
   ]
  },
  {
   "cell_type": "code",
   "execution_count": 48,
   "id": "d71ae532-3ab9-404b-8750-8298792469d6",
   "metadata": {},
   "outputs": [
    {
     "name": "stdout",
     "output_type": "stream",
     "text": [
      "Processing fold #0\n",
      "Processing fold #1\n",
      "Processing fold #2\n",
      "Processing fold #3\n"
     ]
    }
   ],
   "source": [
    "num_epochs = 500\n",
    "all_mae_histories = []\n",
    "for i in range(k):\n",
    "    print(f\"Processing fold #{i}\")\n",
    "    # 准备验证数据：第k个分区的数据\n",
    "    val_data = train_data[i * num_val_samples: (i + 1) * num_val_samples]\n",
    "    val_targets = train_targets[i * num_val_samples: (i + 1) * num_val_samples]\n",
    "    # 准备训练数据：其余所有分区的数据\n",
    "    partial_train_data = np.concatenate(\n",
    "        [train_data[:i * num_val_samples], train_data[(i + 1) * num_val_samples:]],\n",
    "        axis=0)\n",
    "    partial_train_targets = np.concatenate(\n",
    "        [train_targets[:i * num_val_samples], train_targets[(i + 1) * num_val_samples:]],\n",
    "        axis=0)\n",
    "    model = build_model()\n",
    "    history = model.fit(partial_train_data, \n",
    "                        partial_train_targets, \n",
    "                        validation_data=(val_data, val_targets), \n",
    "                        epochs=num_epochs, \n",
    "                        batch_size=16, \n",
    "                        verbose=0)\n",
    "    mae_history = history.history[\"val_mae\"]\n",
    "    all_mae_histories.append(mae_history)"
   ]
  },
  {
   "cell_type": "markdown",
   "id": "ce71bb36-263e-4279-9abe-2e14a7618228",
   "metadata": {},
   "source": [
    "#### 计算每轮所有折MAE的平均值"
   ]
  },
  {
   "cell_type": "code",
   "execution_count": 50,
   "id": "c9a4fd8b-5065-4420-a14a-ccfba206e51e",
   "metadata": {},
   "outputs": [],
   "source": [
    "average_mae_history = [np.mean([x[i] for x in all_mae_histories]) for i in range(num_epochs)]"
   ]
  },
  {
   "cell_type": "markdown",
   "id": "6852dfe4-93db-4893-a4ca-239c0a9f116e",
   "metadata": {},
   "source": [
    "#### 绘制验证MAE曲线"
   ]
  },
  {
   "cell_type": "code",
   "execution_count": 51,
   "id": "d5f6b08d-6d95-4193-8053-9e8fcb2d9e81",
   "metadata": {},
   "outputs": [
    {
     "data": {
      "image/png": "[encoded data removed]",
      "text/plain": [
       "<Figure size 640x480 with 1 Axes>"
      ]
     },
     "metadata": {},
     "output_type": "display_data"
    }
   ],
   "source": [
    "plt.clf()\n",
    "plt.plot(range(1, len(average_mae_history) + 1), average_mae_history)\n",
    "plt.xlabel(\"Epochs\")\n",
    "plt.ylabel(\"Validation MAE\")\n",
    "plt.show()"
   ]
  },
  {
   "cell_type": "markdown",
   "id": "de1d8f02-0145-4919-9a22-d15e9643c680",
   "metadata": {},
   "source": [
    "#### 绘制验证MAE曲线（剔除前10个数据点）"
   ]
  },
  {
   "cell_type": "markdown",
   "id": "eb68bd4d-255c-4d24-acda-194b4813371f",
   "metadata": {},
   "source": [
    "由于比例问题，前几轮的验证MAE远大于后面的轮次。我们忽略前10个数据点，因为它们的取值范围与曲线上的其他点不同。"
   ]
  },
  {
   "cell_type": "code",
   "execution_count": 52,
   "id": "bbe5e7a7-1f6e-4907-b3e5-47c09666b0c5",
   "metadata": {},
   "outputs": [
    {
     "data": {
      "image/png": "[encoded data removed]",
      "text/plain": [
       "<Figure size 640x480 with 1 Axes>"
      ]
     },
     "metadata": {},
     "output_type": "display_data"
    }
   ],
   "source": [
    "truncated_mae_history = average_mae_history[10:]\n",
    "plt.clf()\n",
    "plt.plot(range(1, len(truncated_mae_history) + 1), truncated_mae_history)\n",
    "plt.xlabel(\"Epochs\")\n",
    "plt.ylabel(\"Validation MAE\")\n",
    "plt.show()"
   ]
  },
  {
   "cell_type": "markdown",
   "id": "6acdabaf-fdee-4c08-b9ef-544484d6c792",
   "metadata": {},
   "source": [
    "#### 训练最总模型"
   ]
  },
  {
   "cell_type": "code",
   "execution_count": 53,
   "id": "014afcec-dc16-45b1-b768-a250f90c067f",
   "metadata": {},
   "outputs": [
    {
     "name": "stdout",
     "output_type": "stream",
     "text": [
      "4/4 [==============================] - 0s 1ms/step - loss: 15.1552 - mae: 2.5556\n",
      "2.555551767349243\n"
     ]
    }
   ],
   "source": [
    "model = build_model()\n",
    "model.fit(train_data, train_targets, epochs=130, batch_size=16, verbose=0)\n",
    "test_mse_score, test_mae_score = model.evaluate(test_data, test_targets)\n",
    "print(test_mae_score)"
   ]
  },
  {
   "cell_type": "markdown",
   "id": "2a61d089-3edd-4761-a8a6-77c83647ab7b",
   "metadata": {},
   "source": [
    "## 对新数据进行预测"
   ]
  },
  {
   "cell_type": "code",
   "execution_count": 54,
   "id": "ed5af623-b330-4779-a69a-5a17bc55e681",
   "metadata": {},
   "outputs": [
    {
     "name": "stdout",
     "output_type": "stream",
     "text": [
      "4/4 [==============================] - 0s 943us/step\n"
     ]
    },
    {
     "data": {
      "text/plain": [
       "array([9.305989], dtype=float32)"
      ]
     },
     "execution_count": 54,
     "metadata": {},
     "output_type": "execute_result"
    }
   ],
   "source": [
    "predictions = model.predict(test_data)\n",
    "predictions[0]"
   ]
  },
  {
   "cell_type": "code",
   "execution_count": null,
   "id": "bc6be7a9-9bf9-4469-97fa-9b94c02aca43",
   "metadata": {},
   "outputs": [],
   "source": []
  }
 ],
 "metadata": {
  "kernelspec": {
   "display_name": "hjw",
   "language": "python",
   "name": "hjw"
  },
  "language_info": {
   "codemirror_mode": {
    "name": "ipython",
    "version": 3
   },
   "file_extension": ".py",
   "mimetype": "text/x-python",
   "name": "python",
   "nbconvert_exporter": "python",
   "pygments_lexer": "ipython3",
   "version": "3.10.13"
  }
 },
 "nbformat": 4,
 "nbformat_minor": 5
}
